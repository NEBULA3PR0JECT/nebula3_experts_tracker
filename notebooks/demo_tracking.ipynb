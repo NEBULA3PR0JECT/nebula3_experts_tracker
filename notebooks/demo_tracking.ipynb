{
 "cells": [
  {
   "cell_type": "code",
   "execution_count": 2,
   "metadata": {},
   "outputs": [
    {
     "ename": "ImportError",
     "evalue": "No detection models present in current python environment",
     "output_type": "error",
     "traceback": [
      "\u001b[0;31m---------------------------------------------------------------------------\u001b[0m",
      "\u001b[0;31mImportError\u001b[0m                               Traceback (most recent call last)",
      "\u001b[1;32m/home/ilan/git/nebula3_experts_tracker/tracker/demo_tracking.ipynb Cell 1'\u001b[0m in \u001b[0;36m<cell line: 3>\u001b[0;34m()\u001b[0m\n\u001b[1;32m      <a href='vscode-notebook-cell://ssh-remote%2B7b22686f73744e616d65223a2228475055292d6563322d6e6577227d/home/ilan/git/nebula3_experts_tracker/tracker/demo_tracking.ipynb#ch0000000vscode-remote?line=0'>1</a>\u001b[0m \u001b[39m# %pip install wrapt\u001b[39;00m\n\u001b[1;32m      <a href='vscode-notebook-cell://ssh-remote%2B7b22686f73744e616d65223a2228475055292d6563322d6e6577227d/home/ilan/git/nebula3_experts_tracker/tracker/demo_tracking.ipynb#ch0000000vscode-remote?line=1'>2</a>\u001b[0m \u001b[39m# %pip install shapely\u001b[39;00m\n\u001b[0;32m----> <a href='vscode-notebook-cell://ssh-remote%2B7b22686f73744e616d65223a2228475055292d6563322d6e6577227d/home/ilan/git/nebula3_experts_tracker/tracker/demo_tracking.ipynb#ch0000000vscode-remote?line=2'>3</a>\u001b[0m \u001b[39mimport\u001b[39;00m \u001b[39mautotracker\u001b[39;00m \u001b[39mas\u001b[39;00m \u001b[39mat\u001b[39;00m\n\u001b[1;32m      <a href='vscode-notebook-cell://ssh-remote%2B7b22686f73744e616d65223a2228475055292d6563322d6e6577227d/home/ilan/git/nebula3_experts_tracker/tracker/demo_tracking.ipynb#ch0000000vscode-remote?line=3'>4</a>\u001b[0m get_ipython()\u001b[39m.\u001b[39mrun_line_magic(\u001b[39m'\u001b[39m\u001b[39mload_ext\u001b[39m\u001b[39m'\u001b[39m, \u001b[39m'\u001b[39m\u001b[39mautoreload\u001b[39m\u001b[39m'\u001b[39m)\n\u001b[1;32m      <a href='vscode-notebook-cell://ssh-remote%2B7b22686f73744e616d65223a2228475055292d6563322d6e6577227d/home/ilan/git/nebula3_experts_tracker/tracker/demo_tracking.ipynb#ch0000000vscode-remote?line=4'>5</a>\u001b[0m get_ipython()\u001b[39m.\u001b[39mrun_line_magic(\u001b[39m'\u001b[39m\u001b[39mautoreload\u001b[39m\u001b[39m'\u001b[39m, \u001b[39m'\u001b[39m\u001b[39m2\u001b[39m\u001b[39m'\u001b[39m)\n",
      "File \u001b[0;32m/home/ilan/git/nebula3_experts_tracker/tracker/autotracker/__init__.py:29\u001b[0m, in \u001b[0;36m<module>\u001b[0;34m\u001b[0m\n\u001b[1;32m     <a href='file:///home/ilan/git/nebula3_experts_tracker/tracker/autotracker/__init__.py?line=26'>27</a>\u001b[0m \u001b[39m# check that some backend was loaded\u001b[39;00m\n\u001b[1;32m     <a href='file:///home/ilan/git/nebula3_experts_tracker/tracker/autotracker/__init__.py?line=27'>28</a>\u001b[0m \u001b[39mif\u001b[39;00m \u001b[39mnot\u001b[39;00m __available_backends:\n\u001b[0;32m---> <a href='file:///home/ilan/git/nebula3_experts_tracker/tracker/autotracker/__init__.py?line=28'>29</a>\u001b[0m     \u001b[39mraise\u001b[39;00m \u001b[39mImportError\u001b[39;00m(\u001b[39m'\u001b[39m\u001b[39mNo detection models present in current python environment\u001b[39m\u001b[39m'\u001b[39m)\n\u001b[1;32m     <a href='file:///home/ilan/git/nebula3_experts_tracker/tracker/autotracker/__init__.py?line=31'>32</a>\u001b[0m \u001b[39m# some backends were successfully imported. set active backend and detection utilities\u001b[39;00m\n\u001b[1;32m     <a href='file:///home/ilan/git/nebula3_experts_tracker/tracker/autotracker/__init__.py?line=32'>33</a>\u001b[0m __active_detection_backend, detection_utils \u001b[39m=\u001b[39m __available_backends[\u001b[39m0\u001b[39m]\n",
      "\u001b[0;31mImportError\u001b[0m: No detection models present in current python environment"
     ]
    }
   ],
   "source": [
    "# %pip install wrapt\n",
    "# %pip install shapely\n",
    "import autotracker as at\n",
    "%load_ext autoreload\n",
    "%autoreload 2\n",
    "\n",
    "# create a default detection model according to conda env.\n",
    "model = at.detection_utils.VideoPredictor()"
   ]
  },
  {
   "cell_type": "code",
   "execution_count": null,
   "metadata": {},
   "outputs": [],
   "source": [
    "import os\n",
    "\n",
    "# configure an experiment\n",
    "experiment_config  = dict(\n",
    "    detect_every=10,          # use detection model every `detect_every` frames (starting from 0) \n",
    "    merge_iou_threshold=0.5,  # required IOU score \n",
    "    tracker_type=at.tracking_utils.TRACKER_TYPE_KCF,  # trecker algorithm (KCF or CSRT)\n",
    "    refresh_on_detect=False   # if True, any object that isn't found by the model is removed\n",
    ")\n",
    "\n",
    "# choose movie. save in appropriate experiment fiile\n",
    "input_path = '/movies/actioncliptrain00188.avi'\n",
    "output_path = os.path.splitext(os.path.basename(input_path))[0] + f'__{\",\".join(f\"{k}={v}\" for k, v in experiment_config.items())}'"
   ]
  },
  {
   "cell_type": "code",
   "execution_count": null,
   "metadata": {},
   "outputs": [
    {
     "name": "stderr",
     "output_type": "stream",
     "text": [
      "UsageError: Line magic function `%` not found.\n"
     ]
    }
   ],
   "source": [
    "# %pip uninstall -y opencv-contrib-python\n",
    "# %pip install opencv-contrib-python\n",
    "%pip show opencv\n",
    "from TrackerAnnotator import TrackerAnnotator\n",
    "\n",
    "# do tracking with experiment config.\n",
    "tracking_data = at.tracking_utils.MultiTracker.track_video_objects(input_path,\n",
    "                                                                   model,\n",
    "                                                                   **experiment_config)\n",
    "# annotate video when tracking is complete.\n",
    "TrackerAnnotator().annotate_video(input_path, tracking_data, output_path)"
   ]
  },
  {
   "cell_type": "code",
   "execution_count": null,
   "metadata": {},
   "outputs": [],
   "source": []
  }
 ],
 "metadata": {
  "interpreter": {
   "hash": "f1eed08526ee63cda4a8ff9bda89da76bc83324dd7baec5374bda665ca756bd6"
  },
  "kernelspec": {
   "display_name": "Python 3.9.6 64-bit ('detectron': conda)",
   "name": "python3"
  },
  "language_info": {
   "codemirror_mode": {
    "name": "ipython",
    "version": 3
   },
   "file_extension": ".py",
   "mimetype": "text/x-python",
   "name": "python",
   "nbconvert_exporter": "python",
   "pygments_lexer": "ipython3",
   "version": "3.8.13"
  },
  "orig_nbformat": 4
 },
 "nbformat": 4,
 "nbformat_minor": 2
}
